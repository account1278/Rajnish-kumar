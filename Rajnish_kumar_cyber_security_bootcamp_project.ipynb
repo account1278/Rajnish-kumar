{
  "nbformat": 4,
  "nbformat_minor": 0,
  "metadata": {
    "colab": {
      "name": "Rajnish_kumar_cyber_security_bootcamp_project.ipynb",
      "provenance": [],
      "authorship_tag": "ABX9TyOt+IM3+tC1jB8Bs9/VhwEc",
      "include_colab_link": true
    },
    "kernelspec": {
      "name": "python3",
      "display_name": "Python 3"
    },
    "language_info": {
      "name": "python"
    }
  },
  "cells": [
    {
      "cell_type": "markdown",
      "metadata": {
        "id": "view-in-github",
        "colab_type": "text"
      },
      "source": [
        "<a href=\"https://colab.research.google.com/github/account1278/Rajnish-kumar/blob/main/Rajnish_kumar_cyber_security_bootcamp_project.ipynb\" target=\"_parent\"><img src=\"https://colab.research.google.com/assets/colab-badge.svg\" alt=\"Open In Colab\"/></a>"
      ]
    },
    {
      "cell_type": "markdown",
      "metadata": {
        "id": "OSFveazHXruc"
      },
      "source": [
        "Rajnish kumar \n",
        "\n",
        "Bootcamp project at SHAPEAI \n",
        "\n",
        "python and cuber security"
      ]
    },
    {
      "cell_type": "code",
      "metadata": {
        "id": "3FQZmaa8VB9n"
      },
      "source": [
        "#importing request\n",
        "import requests"
      ],
      "execution_count": 21,
      "outputs": []
    },
    {
      "cell_type": "code",
      "metadata": {
        "id": "008UE8EeWDIo"
      },
      "source": [
        "from datetime import datetime"
      ],
      "execution_count": 17,
      "outputs": []
    },
    {
      "cell_type": "code",
      "metadata": {
        "id": "s067w8tDWDM7"
      },
      "source": [
        "#API link imported from wheathermap.com\n",
        "complete_api_link = \"https://api.openweathermap.org/data/2.5/weather?q=\"+location+\"&appid=\"+api_key\n",
        "api_link = requests.get(complete_api_link)\n",
        "api_data = api_link.json()"
      ],
      "execution_count": 23,
      "outputs": []
    },
    {
      "cell_type": "code",
      "metadata": {
        "id": "eyA126rkWDOk"
      },
      "source": [
        "#creating variables\n",
        "temp_city = ((api_data['main']['temp']) - 273.15)\n",
        "weather_desc = api_data['weather'][0]['description']\n",
        "hmdt = api_data['main']['humidity']\n",
        "wind_spd = api_data['wind']['speed']\n",
        "date_time = datetime.now().strftime(\"%d %b %Y | %I:%M:%S %p\")"
      ],
      "execution_count": 24,
      "outputs": []
    },
    {
      "cell_type": "code",
      "metadata": {
        "colab": {
          "base_uri": "https://localhost:8080/"
        },
        "id": "7hxsSepkWDQj",
        "outputId": "e7bb4e9d-bb9a-4150-e740-38de569cbefb"
      },
      "source": [
        "print (\">>>>>>>>>>>>>>>>>>>>>>>>>>>>>>>>>>>>>>>>>>>>>>>>>>>>>>>>>>>>>>>>>\")\n",
        "print (\"Weather Stats for - {}  || {}\".format(location.upper(), date_time))\n",
        "print (\"<<<<<<<<<<<<<<<<<<<<<<<<<<<<<<<<<<<<<<<<<<<<<<<<<<<<<<<<<<<<<<<<<\")"
      ],
      "execution_count": 29,
      "outputs": [
        {
          "output_type": "stream",
          "text": [
            ">>>>>>>>>>>>>>>>>>>>>>>>>>>>>>>>>>>>>>>>>>>>>>>>>>>>>>>>>>>>>>>>>\n",
            "Weather Stats for - SOUTHMAPTON  || 22 Jun 2021 | 11:07:21 AM\n",
            "<<<<<<<<<<<<<<<<<<<<<<<<<<<<<<<<<<<<<<<<<<<<<<<<<<<<<<<<<<<<<<<<<\n"
          ],
          "name": "stdout"
        }
      ]
    },
    {
      "cell_type": "code",
      "metadata": {
        "colab": {
          "base_uri": "https://localhost:8080/"
        },
        "id": "BjrtYVivWDUI",
        "outputId": "f290b6ea-903b-41b7-9194-5734fbc2529f"
      },
      "source": [
        "api_key = '87d845b0b6cf29baa1a73cc34b067a95'\n",
        "location = input(\"Enter your city name :: \")\n",
        "\n",
        "print (\"Current temperature is :: {:.2f} deg C\".format(temp_city))\n",
        "print (\"Current weather desc  ::\",weather_desc)\n",
        "print (\"Current Humidity      ::\",hmdt, '%')\n",
        "print (\"Current wind speed    ::\",wind_spd ,'kmph') "
      ],
      "execution_count": 28,
      "outputs": [
        {
          "output_type": "stream",
          "text": [
            "Enter your city name :: southmapton\n",
            "Current temperature is :: 27.96 deg C\n",
            "Current weather desc  :: haze\n",
            "Current Humidity      :: 74 %\n",
            "Current wind speed    :: 3.09 kmph\n"
          ],
          "name": "stdout"
        }
      ]
    },
    {
      "cell_type": "markdown",
      "metadata": {
        "id": "J3WkDx3PYqYh"
      },
      "source": [
        "we can see current wheather for your entered city name"
      ]
    }
  ]
}